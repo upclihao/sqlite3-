{
 "cells": [
  {
   "cell_type": "markdown",
   "id": "708f7ca9",
   "metadata": {},
   "source": [
    "# sqlite3"
   ]
  },
  {
   "cell_type": "code",
   "execution_count": null,
   "id": "e2024da1",
   "metadata": {},
   "outputs": [],
   "source": [
    "import sqlite3"
   ]
  },
  {
   "cell_type": "code",
   "execution_count": 7,
   "id": "3d59feee",
   "metadata": {},
   "outputs": [],
   "source": [
    "conn = sqlite3.connect('data.db')"
   ]
  },
  {
   "cell_type": "code",
   "execution_count": 9,
   "id": "25ed155d",
   "metadata": {},
   "outputs": [],
   "source": [
    "#创建表格\n",
    "cur = conn.cursor()\n",
    "cur.execute(\"\"\"CREATE TABLE products (\n",
    "    item TEXT,\n",
    "    count INTEGER,\n",
    "    price REAL)\"\"\")\n",
    "conn.commit()"
   ]
  },
  {
   "cell_type": "code",
   "execution_count": 18,
   "id": "71082f1e",
   "metadata": {},
   "outputs": [],
   "source": [
    "with open('data.csv') as f:\n",
    "    f.readline()\n",
    "    for i in range(4):\n",
    "        line = f.readline()\n",
    "        item,count,price = line.split(',')\n",
    "        #print(item,count,price)\n",
    "        with conn:\n",
    "            cur.execute(\"\"\"INSERT INTO products VALUES (:item,:count,:price)\"\"\",dict(item=item,count=count,price=price))"
   ]
  },
  {
   "cell_type": "code",
   "execution_count": 11,
   "id": "6cf79b10",
   "metadata": {},
   "outputs": [],
   "source": [
    "#插入数据\n",
    "with conn:\n",
    "    item = 'pen'\n",
    "    count = 10\n",
    "    price = 5\n",
    "    cur.execute(\"\"\"INSERT INTO products VALUES (?,?,?)\"\"\",(item,count,price))\n",
    "    "
   ]
  },
  {
   "cell_type": "code",
   "execution_count": 22,
   "id": "b0f4067e",
   "metadata": {},
   "outputs": [
    {
     "name": "stdout",
     "output_type": "stream",
     "text": [
      "[('pen', 10, 5.0), ('knife', 10, 2.0), ('pencil', 100, 1.0), ('paper', 1000, 0.1)]\n"
     ]
    }
   ],
   "source": [
    "#查询数据\n",
    "with conn:\n",
    "    cur.execute(\"\"\"SELECT * FROM products\"\"\")\n",
    "    print(cur.fetchall())"
   ]
  },
  {
   "cell_type": "code",
   "execution_count": 21,
   "id": "920802ba",
   "metadata": {},
   "outputs": [],
   "source": [
    "#修改数据\n",
    "with conn:\n",
    "    item = 'knife'\n",
    "    count = 10\n",
    "    cur.execute(\"\"\"UPDATE products SET count=:count WHERE item=:item\"\"\",dict(item = item,count = count))"
   ]
  },
  {
   "cell_type": "code",
   "execution_count": 15,
   "id": "d6370d56",
   "metadata": {},
   "outputs": [],
   "source": [
    "#删除数据\n",
    "with conn:\n",
    "    cur.execute(\"\"\"DELETE FROM products WHERE item=?\"\"\",(item,))"
   ]
  },
  {
   "cell_type": "code",
   "execution_count": 3,
   "id": "83bdf951",
   "metadata": {},
   "outputs": [],
   "source": [
    "conn.close()"
   ]
  },
  {
   "cell_type": "markdown",
   "id": "4333012b",
   "metadata": {},
   "source": [
    "# pandas library"
   ]
  },
  {
   "cell_type": "code",
   "execution_count": 23,
   "id": "42cefd3a",
   "metadata": {},
   "outputs": [],
   "source": [
    "import pandas as pd"
   ]
  },
  {
   "cell_type": "code",
   "execution_count": 26,
   "id": "6f5745ba",
   "metadata": {},
   "outputs": [],
   "source": [
    "from sqlalchemy import create_engine"
   ]
  },
  {
   "cell_type": "code",
   "execution_count": 24,
   "id": "1631f47c",
   "metadata": {},
   "outputs": [],
   "source": [
    "df =pd.read_csv('./data.csv')"
   ]
  },
  {
   "cell_type": "code",
   "execution_count": 25,
   "id": "51128538",
   "metadata": {},
   "outputs": [
    {
     "data": {
      "text/html": [
       "<div>\n",
       "<style scoped>\n",
       "    .dataframe tbody tr th:only-of-type {\n",
       "        vertical-align: middle;\n",
       "    }\n",
       "\n",
       "    .dataframe tbody tr th {\n",
       "        vertical-align: top;\n",
       "    }\n",
       "\n",
       "    .dataframe thead th {\n",
       "        text-align: right;\n",
       "    }\n",
       "</style>\n",
       "<table border=\"1\" class=\"dataframe\">\n",
       "  <thead>\n",
       "    <tr style=\"text-align: right;\">\n",
       "      <th></th>\n",
       "      <th>item</th>\n",
       "      <th>count</th>\n",
       "      <th>price</th>\n",
       "    </tr>\n",
       "  </thead>\n",
       "  <tbody>\n",
       "    <tr>\n",
       "      <th>0</th>\n",
       "      <td>pen</td>\n",
       "      <td>10</td>\n",
       "      <td>5.0</td>\n",
       "    </tr>\n",
       "    <tr>\n",
       "      <th>1</th>\n",
       "      <td>knife</td>\n",
       "      <td>50</td>\n",
       "      <td>2.0</td>\n",
       "    </tr>\n",
       "    <tr>\n",
       "      <th>2</th>\n",
       "      <td>pencil</td>\n",
       "      <td>100</td>\n",
       "      <td>1.0</td>\n",
       "    </tr>\n",
       "    <tr>\n",
       "      <th>3</th>\n",
       "      <td>paper</td>\n",
       "      <td>1000</td>\n",
       "      <td>0.1</td>\n",
       "    </tr>\n",
       "  </tbody>\n",
       "</table>\n",
       "</div>"
      ],
      "text/plain": [
       "     item  count  price\n",
       "0     pen     10    5.0\n",
       "1   knife     50    2.0\n",
       "2  pencil    100    1.0\n",
       "3   paper   1000    0.1"
      ]
     },
     "execution_count": 25,
     "metadata": {},
     "output_type": "execute_result"
    }
   ],
   "source": [
    "df"
   ]
  },
  {
   "cell_type": "code",
   "execution_count": 27,
   "id": "c0744d75",
   "metadata": {},
   "outputs": [],
   "source": [
    "engine = create_engine('sqlite:///data.db')"
   ]
  },
  {
   "cell_type": "code",
   "execution_count": 29,
   "id": "a6a016b6",
   "metadata": {},
   "outputs": [],
   "source": [
    "df.to_sql('pdproducts',con=engine)"
   ]
  },
  {
   "cell_type": "code",
   "execution_count": null,
   "id": "2870fa9b",
   "metadata": {},
   "outputs": [],
   "source": []
  }
 ],
 "metadata": {
  "kernelspec": {
   "display_name": "Python 3",
   "language": "python",
   "name": "python3"
  },
  "language_info": {
   "codemirror_mode": {
    "name": "ipython",
    "version": 3
   },
   "file_extension": ".py",
   "mimetype": "text/x-python",
   "name": "python",
   "nbconvert_exporter": "python",
   "pygments_lexer": "ipython3",
   "version": "3.8.8"
  }
 },
 "nbformat": 4,
 "nbformat_minor": 5
}
